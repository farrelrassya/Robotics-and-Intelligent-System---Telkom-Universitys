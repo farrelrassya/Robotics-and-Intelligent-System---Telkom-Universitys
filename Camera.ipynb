{
  "nbformat": 4,
  "nbformat_minor": 0,
  "metadata": {
    "colab": {
      "provenance": [],
      "authorship_tag": "ABX9TyMgGpOggYz3Ciz8cYLAd25J",
      "include_colab_link": true
    },
    "kernelspec": {
      "name": "python3",
      "display_name": "Python 3"
    },
    "language_info": {
      "name": "python"
    }
  },
  "cells": [
    {
      "cell_type": "markdown",
      "metadata": {
        "id": "view-in-github",
        "colab_type": "text"
      },
      "source": [
        "<a href=\"https://colab.research.google.com/github/brilliantfriezka/Robotics-and-Intelligent-Systems/blob/main/UTS/Camera.ipynb\" target=\"_parent\"><img src=\"https://colab.research.google.com/assets/colab-badge.svg\" alt=\"Open In Colab\"/></a>"
      ]
    },
    {
      "cell_type": "code",
      "execution_count": 1,
      "metadata": {
        "colab": {
          "base_uri": "https://localhost:8080/"
        },
        "id": "DOni9iq7Pjkd",
        "outputId": "bb5ebefa-4bcb-46e6-a52a-741fb2c66459"
      },
      "outputs": [
        {
          "output_type": "stream",
          "name": "stdout",
          "text": [
            "Looking in indexes: https://pypi.org/simple, https://us-python.pkg.dev/colab-wheels/public/simple/\n",
            "Collecting symforce\n",
            "  Downloading symforce-0.7.0-cp38-cp38-manylinux_2_17_x86_64.manylinux2014_x86_64.whl (4.4 MB)\n",
            "\u001b[K     |████████████████████████████████| 4.4 MB 5.1 MB/s \n",
            "\u001b[?25hCollecting skymarshal==0.7.0\n",
            "  Downloading skymarshal-0.7.0-py3-none-any.whl (82 kB)\n",
            "\u001b[K     |████████████████████████████████| 82 kB 195 kB/s \n",
            "\u001b[?25hCollecting clang-format\n",
            "  Downloading clang_format-15.0.4-py2.py3-none-manylinux_2_17_x86_64.manylinux2014_x86_64.whl (1.5 MB)\n",
            "\u001b[K     |████████████████████████████████| 1.5 MB 45.0 MB/s \n",
            "\u001b[?25hRequirement already satisfied: numpy in /usr/local/lib/python3.8/dist-packages (from symforce) (1.21.6)\n",
            "Collecting sympy~=1.11.1\n",
            "  Downloading sympy-1.11.1-py3-none-any.whl (6.5 MB)\n",
            "\u001b[K     |████████████████████████████████| 6.5 MB 19.6 MB/s \n",
            "\u001b[?25hCollecting black\n",
            "  Downloading black-22.10.0-cp38-cp38-manylinux_2_17_x86_64.manylinux2014_x86_64.whl (1.5 MB)\n",
            "\u001b[K     |████████████████████████████████| 1.5 MB 40.7 MB/s \n",
            "\u001b[?25hRequirement already satisfied: graphviz in /usr/local/lib/python3.8/dist-packages (from symforce) (0.10.1)\n",
            "Requirement already satisfied: scipy in /usr/local/lib/python3.8/dist-packages (from symforce) (1.7.3)\n",
            "Requirement already satisfied: jinja2 in /usr/local/lib/python3.8/dist-packages (from symforce) (2.11.3)\n",
            "Collecting symforce-sym==0.7.0\n",
            "  Downloading symforce_sym-0.7.0-py3-none-any.whl (70 kB)\n",
            "\u001b[K     |████████████████████████████████| 70 kB 4.6 MB/s \n",
            "\u001b[?25hCollecting ply\n",
            "  Downloading ply-3.11-py2.py3-none-any.whl (49 kB)\n",
            "\u001b[K     |████████████████████████████████| 49 kB 4.0 MB/s \n",
            "\u001b[?25hRequirement already satisfied: six in /usr/local/lib/python3.8/dist-packages (from skymarshal==0.7.0->symforce) (1.15.0)\n",
            "Collecting argh\n",
            "  Downloading argh-0.26.2-py2.py3-none-any.whl (30 kB)\n",
            "Requirement already satisfied: mpmath>=0.19 in /usr/local/lib/python3.8/dist-packages (from sympy~=1.11.1->symforce) (1.2.1)\n",
            "Collecting pathspec>=0.9.0\n",
            "  Downloading pathspec-0.10.2-py3-none-any.whl (28 kB)\n",
            "Requirement already satisfied: tomli>=1.1.0 in /usr/local/lib/python3.8/dist-packages (from black->symforce) (2.0.1)\n",
            "Collecting mypy-extensions>=0.4.3\n",
            "  Downloading mypy_extensions-0.4.3-py2.py3-none-any.whl (4.5 kB)\n",
            "Collecting click>=8.0.0\n",
            "  Downloading click-8.1.3-py3-none-any.whl (96 kB)\n",
            "\u001b[K     |████████████████████████████████| 96 kB 3.4 MB/s \n",
            "\u001b[?25hCollecting platformdirs>=2\n",
            "  Downloading platformdirs-2.5.4-py3-none-any.whl (14 kB)\n",
            "Requirement already satisfied: typing-extensions>=3.10.0.0 in /usr/local/lib/python3.8/dist-packages (from black->symforce) (4.1.1)\n",
            "Requirement already satisfied: MarkupSafe>=0.23 in /usr/local/lib/python3.8/dist-packages (from jinja2->symforce) (2.0.1)\n",
            "Installing collected packages: ply, platformdirs, pathspec, mypy-extensions, click, argh, sympy, symforce-sym, skymarshal, clang-format, black, symforce\n",
            "  Attempting uninstall: click\n",
            "    Found existing installation: click 7.1.2\n",
            "    Uninstalling click-7.1.2:\n",
            "      Successfully uninstalled click-7.1.2\n",
            "  Attempting uninstall: sympy\n",
            "    Found existing installation: sympy 1.7.1\n",
            "    Uninstalling sympy-1.7.1:\n",
            "      Successfully uninstalled sympy-1.7.1\n",
            "\u001b[31mERROR: pip's dependency resolver does not currently take into account all the packages that are installed. This behaviour is the source of the following dependency conflicts.\n",
            "flask 1.1.4 requires click<8.0,>=5.1, but you have click 8.1.3 which is incompatible.\u001b[0m\n",
            "Successfully installed argh-0.26.2 black-22.10.0 clang-format-15.0.4 click-8.1.3 mypy-extensions-0.4.3 pathspec-0.10.2 platformdirs-2.5.4 ply-3.11 skymarshal-0.7.0 symforce-0.7.0 symforce-sym-0.7.0 sympy-1.11.1\n"
          ]
        }
      ],
      "source": [
        "pip install symforce"
      ]
    },
    {
      "cell_type": "code",
      "source": [
        "import symforce\n",
        "\n",
        "symforce.set_symbolic_api(\"sympy\")\n",
        "symforce.set_log_level(\"warning\")\n",
        "\n",
        "from symforce.notebook_util import display\n",
        "import symforce.symbolic as sf"
      ],
      "metadata": {
        "id": "dtxsND3qPpxz"
      },
      "execution_count": 2,
      "outputs": []
    },
    {
      "cell_type": "code",
      "source": [
        "# Membuat objek kalibrasi kamera linier:\n",
        "linear_camera_cal = sf.LinearCameraCal.symbolic(\"cal\")\n",
        "display(linear_camera_cal)"
      ],
      "metadata": {
        "colab": {
          "base_uri": "https://localhost:8080/",
          "height": 86
        },
        "id": "-ZDDKULCPtHm",
        "outputId": "655f5efe-7cad-4269-d1d7-7b480b960107"
      },
      "execution_count": 3,
      "outputs": [
        {
          "output_type": "display_data",
          "data": {
            "text/plain": [
              "<LinearCameraCal\n",
              "  focal_length=[cal.f_x, cal.f_y],\n",
              "  principal_point=[cal.c_x, cal.c_y],\n",
              "  distortion_coeffs=[]>"
            ]
          },
          "metadata": {}
        }
      ]
    },
    {
      "cell_type": "code",
      "source": [
        "# Deproyeksi titik-titik yang tertulis di bingkai kamera sebagai berikut:\n",
        "camera_point = sf.V3.symbolic(\"p\")\n",
        "camera_ray, _ = linear_camera_cal.camera_ray_from_pixel(camera_point)\n",
        "display(camera_ray)"
      ],
      "metadata": {
        "colab": {
          "base_uri": "https://localhost:8080/",
          "height": 88
        },
        "id": "NnTD3hqEPvhC",
        "outputId": "f1fd6e65-eb48-4b31-9b7b-5791c60aa180"
      },
      "execution_count": 4,
      "outputs": [
        {
          "output_type": "display_data",
          "data": {
            "text/plain": [
              "⎡-cal.cₓ + p₀ ⎤\n",
              "⎢──────────── ⎥\n",
              "⎢   cal.fₓ    ⎥\n",
              "⎢             ⎥\n",
              "⎢-cal.c_y + p₁⎥\n",
              "⎢─────────────⎥\n",
              "⎢   cal.f_y   ⎥\n",
              "⎢             ⎥\n",
              "⎣      1      ⎦"
            ],
            "text/latex": "$\\displaystyle \\left[\\begin{matrix}\\frac{- cal.c_{x} + p_{0}}{cal.f_{x}}\\\\\\frac{- cal.c_{y} + p_{1}}{cal.f_{y}}\\\\1\\end{matrix}\\right]$"
          },
          "metadata": {}
        }
      ]
    },
    {
      "cell_type": "code",
      "source": [
        "camera_point_reprojected, _ = linear_camera_cal.pixel_from_camera_point(\n",
        "    camera_ray,\n",
        ")\n",
        "display(camera_point_reprojected)"
      ],
      "metadata": {
        "colab": {
          "base_uri": "https://localhost:8080/",
          "height": 58
        },
        "id": "66oWbpn_Py9V",
        "outputId": "db46fb7d-c803-4c59-a457-a8260617bd3b"
      },
      "execution_count": 5,
      "outputs": [
        {
          "output_type": "display_data",
          "data": {
            "text/plain": [
              "⎡p₀⎤\n",
              "⎢  ⎥\n",
              "⎣p₁⎦"
            ],
            "text/latex": "$\\displaystyle \\left[\\begin{matrix}p_{0}\\\\p_{1}\\end{matrix}\\right]$"
          },
          "metadata": {}
        }
      ]
    },
    {
      "cell_type": "code",
      "source": [
        "# Menggunakan objek kalibrasi kamera, membuat kamera dengan parameter tambahan (seperti ukuran gambar):\n",
        "linear_camera = sf.Camera(\n",
        "    calibration=sf.LinearCameraCal(\n",
        "        focal_length=(440, 400),\n",
        "        principal_point=(320, 240),\n",
        "    ),\n",
        "    image_size=(640, 480),\n",
        ")\n",
        "display(linear_camera)"
      ],
      "metadata": {
        "colab": {
          "base_uri": "https://localhost:8080/",
          "height": 121
        },
        "id": "QdTIlqm1P1FZ",
        "outputId": "57121a77-a11c-4496-c27c-c5e07e6e88d0"
      },
      "execution_count": 6,
      "outputs": [
        {
          "output_type": "display_data",
          "data": {
            "text/plain": [
              "<Camera\n",
              "  CameraCal=<LinearCameraCal\n",
              "  focal_length=[440, 400],\n",
              "  principal_point=[320, 240],\n",
              "  distortion_coeffs=[]>\n",
              "  image_size=[640, 480]>"
            ]
          },
          "metadata": {}
        }
      ]
    },
    {
      "cell_type": "code",
      "source": [
        "point_in_FOV = sf.V3(0, 0, 1)\n",
        "point_outside_FOV = sf.V3(100, 0, 1)\n",
        "for point in (point_in_FOV, point_outside_FOV):\n",
        "    pixel, is_valid = linear_camera.pixel_from_camera_point(point)\n",
        "    print(\n",
        "        \"point={} -> pixel={}, is_valid={}\".format(\n",
        "            point.to_storage(),\n",
        "            pixel.to_storage(),\n",
        "            is_valid,\n",
        "        )\n",
        "    )"
      ],
      "metadata": {
        "colab": {
          "base_uri": "https://localhost:8080/"
        },
        "id": "tCnQ42zDP3oO",
        "outputId": "703786d5-e038-47cc-f6b4-249337416f99"
      },
      "execution_count": 7,
      "outputs": [
        {
          "output_type": "stream",
          "name": "stdout",
          "text": [
            "point=[0, 0, 1] -> pixel=[320, 240], is_valid=1\n",
            "point=[100, 0, 1] -> pixel=[44320, 240], is_valid=0\n"
          ]
        }
      ]
    },
    {
      "cell_type": "code",
      "source": [
        "# Membuat kamera dengan pose tertentu:\n",
        "linear_posed_camera = sf.PosedCamera(\n",
        "    pose=sf.Pose3(\n",
        "        # Memutar kamera 180 derajat pada sumbu y\n",
        "        R=sf.Rot3.from_yaw_pitch_roll(0, sf.pi, 0),\n",
        "        t=sf.V3(),\n",
        "    ),\n",
        "    calibration=linear_camera.calibration,\n",
        "    image_size=(640, 480),\n",
        ")\n",
        "display(linear_posed_camera)"
      ],
      "metadata": {
        "colab": {
          "base_uri": "https://localhost:8080/",
          "height": 156
        },
        "id": "TPKpv9UHP6Ms",
        "outputId": "08fbfc4c-bbe8-4ef2-c61a-a32f6967c8d3"
      },
      "execution_count": 8,
      "outputs": [
        {
          "output_type": "display_data",
          "data": {
            "text/plain": [
              "<PosedCamera\n",
              "  Pose=<Pose3 R=<Rot3 <Q xyzw=[0, 1, 0, 0]>>, t=(0, 0, 0)>\n",
              "  Camera=<PosedCamera\n",
              "  CameraCal=<LinearCameraCal\n",
              "  focal_length=[440, 400],\n",
              "  principal_point=[320, 240],\n",
              "  distortion_coeffs=[]>\n",
              "  image_size=[640, 480]>>"
            ]
          },
          "metadata": {}
        }
      ]
    },
    {
      "cell_type": "code",
      "source": [
        "# Memberikan pose yang dapat digunakan untuk mengubah titik antara bingkai global dan bingkai gambar:\n",
        "global_point = sf.V3(0, 0, -1)\n",
        "print(\n",
        "    \"point in global coordinates={} (in camera coordinates={})\".format(\n",
        "        global_point.to_storage(),\n",
        "        (linear_posed_camera.pose * global_point).to_storage(),\n",
        "    )\n",
        ")\n",
        "\n",
        "pixel, is_valid = linear_posed_camera.pixel_from_global_point(global_point)\n",
        "print(\n",
        "    \"global_point={} -> pixel={}, is_valid={}\".format(\n",
        "        global_point.to_storage(), pixel.to_storage(), is_valid\n",
        "    )\n",
        ")"
      ],
      "metadata": {
        "colab": {
          "base_uri": "https://localhost:8080/"
        },
        "id": "SFV21xXBP8iN",
        "outputId": "651df860-25db-4212-db92-39732c156720"
      },
      "execution_count": 10,
      "outputs": [
        {
          "output_type": "stream",
          "name": "stdout",
          "text": [
            "point in global coordinates=[0, 0, -1] (in camera coordinates=[0, 0, 1])\n",
            "global_point=[0, 0, -1] -> pixel=[320, 240], is_valid=1\n"
          ]
        }
      ]
    },
    {
      "cell_type": "code",
      "source": [
        "# Mengubah titik dalam koordinat piksel kembali ke bingkai global (diberi rentang):\n",
        "range_to_point = (global_point - linear_posed_camera.pose.t).norm()\n",
        "global_point_reprojected, is_valid = linear_posed_camera.global_point_from_pixel(\n",
        "    pixel, range_to_point=range_to_point\n",
        ")\n",
        "display(global_point_reprojected)"
      ],
      "metadata": {
        "colab": {
          "base_uri": "https://localhost:8080/",
          "height": 78
        },
        "id": "d0I6bpxPP-5J",
        "outputId": "9b3867b8-75ee-4480-c044-788f938a2ae0"
      },
      "execution_count": 11,
      "outputs": [
        {
          "output_type": "display_data",
          "data": {
            "text/plain": [
              "⎡ 0  ⎤\n",
              "⎢    ⎥\n",
              "⎢ 0  ⎥\n",
              "⎢    ⎥\n",
              "⎣-1.0⎦"
            ],
            "text/latex": "$\\displaystyle \\left[\\begin{matrix}0\\\\0\\\\-1.0\\end{matrix}\\right]$"
          },
          "metadata": {}
        }
      ]
    },
    {
      "cell_type": "code",
      "source": [
        "# Merubah sudut kecil pada gulungan perturb kamera kedua sedikit dari yang pertama\n",
        "perturbed_rotation = linear_posed_camera.pose.R * sf.Rot3.from_yaw_pitch_roll(0, 0, 0.5)\n",
        "target_posed_cam = sf.PosedCamera(\n",
        "    pose=sf.Pose3(R=perturbed_rotation, t=sf.V3()),\n",
        "    calibration=linear_camera.calibration,\n",
        ")\n",
        "# Memberikan Warp pixel dari kamera sumber ke kamera target dengan rentang terbalik\n",
        "target_pixel, is_valid = linear_posed_camera.warp_pixel(\n",
        "    pixel=sf.V2(320, 240),\n",
        "    inverse_range=1.0,\n",
        "    target_cam=target_posed_cam,\n",
        ")\n",
        "display(target_pixel)"
      ],
      "metadata": {
        "colab": {
          "base_uri": "https://localhost:8080/",
          "height": 58
        },
        "id": "S6loCV9BQA_t",
        "outputId": "eacac2bb-df20-45d8-932d-439d03996297"
      },
      "execution_count": 12,
      "outputs": [
        {
          "output_type": "display_data",
          "data": {
            "text/plain": [
              "⎡      320       ⎤\n",
              "⎢                ⎥\n",
              "⎣458.520995937516⎦"
            ],
            "text/latex": "$\\displaystyle \\left[\\begin{matrix}320\\\\458.520995937516\\end{matrix}\\right]$"
          },
          "metadata": {}
        }
      ]
    },
    {
      "cell_type": "code",
      "source": [
        "# Menggunakan kalibrasi linier, tetapi dapat menggunakan jenis kalibrasi lain juga seperti:\n",
        "atan_cam = sf.ATANCameraCal(\n",
        "    focal_length=[380.0, 380.0],\n",
        "    principal_point=[320.0, 240.0],\n",
        "    omega=0.35,\n",
        ")\n",
        "camera_ray, is_valid = atan_cam.camera_ray_from_pixel(sf.V2(50.0, 50.0))\n",
        "display(camera_ray)\n",
        "pixel, is_valid = atan_cam.pixel_from_camera_point(camera_ray)\n",
        "display(pixel)"
      ],
      "metadata": {
        "colab": {
          "base_uri": "https://localhost:8080/",
          "height": 119
        },
        "id": "8IsuX0Q4QDdS",
        "outputId": "38ae9e07-b661-4da4-fcc8-8ae3a1ba52c7"
      },
      "execution_count": 13,
      "outputs": [
        {
          "output_type": "display_data",
          "data": {
            "text/plain": [
              "⎡-0.72576759882138 ⎤\n",
              "⎢                  ⎥\n",
              "⎢-0.510725347318749⎥\n",
              "⎢                  ⎥\n",
              "⎣        1         ⎦"
            ],
            "text/latex": "$\\displaystyle \\left[\\begin{matrix}-0.72576759882138\\\\-0.510725347318749\\\\1\\end{matrix}\\right]$"
          },
          "metadata": {}
        },
        {
          "output_type": "display_data",
          "data": {
            "text/plain": [
              "⎡49.9999999999999⎤\n",
              "⎢                ⎥\n",
              "⎣      50.0      ⎦"
            ],
            "text/latex": "$\\displaystyle \\left[\\begin{matrix}49.9999999999999\\\\50.0\\end{matrix}\\right]$"
          },
          "metadata": {}
        }
      ]
    }
  ]
}