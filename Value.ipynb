{
  "nbformat": 4,
  "nbformat_minor": 0,
  "metadata": {
    "colab": {
      "provenance": [],
      "authorship_tag": "ABX9TyNK7c+XQtdaoVmOauycjZew",
      "include_colab_link": true
    },
    "kernelspec": {
      "name": "python3",
      "display_name": "Python 3"
    },
    "language_info": {
      "name": "python"
    }
  },
  "cells": [
    {
      "cell_type": "markdown",
      "metadata": {
        "id": "view-in-github",
        "colab_type": "text"
      },
      "source": [
        "<a href=\"https://colab.research.google.com/github/brilliantfriezka/Robotics-and-Intelligent-Systems/blob/main/UTS/Value.ipynb\" target=\"_parent\"><img src=\"https://colab.research.google.com/assets/colab-badge.svg\" alt=\"Open In Colab\"/></a>"
      ]
    },
    {
      "cell_type": "markdown",
      "source": [
        "**UTS Robotics and Intelligent System**\n",
        "*   Nama : Brilliant Friezka Aina\n",
        "*   NIM : 1103194186\n",
        "*   Kelas : TK-43-GAB"
      ],
      "metadata": {
        "id": "g67kKhnflikx"
      }
    },
    {
      "cell_type": "code",
      "execution_count": 1,
      "metadata": {
        "id": "OUfZospeOsWJ",
        "colab": {
          "base_uri": "https://localhost:8080/",
          "height": 0
        },
        "outputId": "4a69aca2-1713-48dc-d7c0-8b9817c06846"
      },
      "outputs": [
        {
          "output_type": "stream",
          "name": "stdout",
          "text": [
            "Looking in indexes: https://pypi.org/simple, https://us-python.pkg.dev/colab-wheels/public/simple/\n",
            "Collecting symforce\n",
            "  Downloading symforce-0.7.0-cp38-cp38-manylinux_2_17_x86_64.manylinux2014_x86_64.whl (4.4 MB)\n",
            "\u001b[K     |████████████████████████████████| 4.4 MB 5.1 MB/s \n",
            "\u001b[?25hRequirement already satisfied: jinja2 in /usr/local/lib/python3.8/dist-packages (from symforce) (2.11.3)\n",
            "Collecting sympy~=1.11.1\n",
            "  Downloading sympy-1.11.1-py3-none-any.whl (6.5 MB)\n",
            "\u001b[K     |████████████████████████████████| 6.5 MB 40.1 MB/s \n",
            "\u001b[?25hRequirement already satisfied: numpy in /usr/local/lib/python3.8/dist-packages (from symforce) (1.21.6)\n",
            "Collecting symforce-sym==0.7.0\n",
            "  Downloading symforce_sym-0.7.0-py3-none-any.whl (70 kB)\n",
            "\u001b[K     |████████████████████████████████| 70 kB 5.7 MB/s \n",
            "\u001b[?25hRequirement already satisfied: graphviz in /usr/local/lib/python3.8/dist-packages (from symforce) (0.10.1)\n",
            "Collecting clang-format\n",
            "  Downloading clang_format-15.0.4-py2.py3-none-manylinux_2_17_x86_64.manylinux2014_x86_64.whl (1.5 MB)\n",
            "\u001b[K     |████████████████████████████████| 1.5 MB 49.2 MB/s \n",
            "\u001b[?25hCollecting skymarshal==0.7.0\n",
            "  Downloading skymarshal-0.7.0-py3-none-any.whl (82 kB)\n",
            "\u001b[K     |████████████████████████████████| 82 kB 269 kB/s \n",
            "\u001b[?25hRequirement already satisfied: scipy in /usr/local/lib/python3.8/dist-packages (from symforce) (1.7.3)\n",
            "Collecting black\n",
            "  Downloading black-22.10.0-cp38-cp38-manylinux_2_17_x86_64.manylinux2014_x86_64.whl (1.5 MB)\n",
            "\u001b[K     |████████████████████████████████| 1.5 MB 41.9 MB/s \n",
            "\u001b[?25hCollecting argh\n",
            "  Downloading argh-0.26.2-py2.py3-none-any.whl (30 kB)\n",
            "Requirement already satisfied: six in /usr/local/lib/python3.8/dist-packages (from skymarshal==0.7.0->symforce) (1.15.0)\n",
            "Collecting ply\n",
            "  Downloading ply-3.11-py2.py3-none-any.whl (49 kB)\n",
            "\u001b[K     |████████████████████████████████| 49 kB 3.3 MB/s \n",
            "\u001b[?25hRequirement already satisfied: mpmath>=0.19 in /usr/local/lib/python3.8/dist-packages (from sympy~=1.11.1->symforce) (1.2.1)\n",
            "Collecting mypy-extensions>=0.4.3\n",
            "  Downloading mypy_extensions-0.4.3-py2.py3-none-any.whl (4.5 kB)\n",
            "Collecting click>=8.0.0\n",
            "  Downloading click-8.1.3-py3-none-any.whl (96 kB)\n",
            "\u001b[K     |████████████████████████████████| 96 kB 2.4 MB/s \n",
            "\u001b[?25hCollecting platformdirs>=2\n",
            "  Downloading platformdirs-2.5.4-py3-none-any.whl (14 kB)\n",
            "Requirement already satisfied: typing-extensions>=3.10.0.0 in /usr/local/lib/python3.8/dist-packages (from black->symforce) (4.1.1)\n",
            "Collecting pathspec>=0.9.0\n",
            "  Downloading pathspec-0.10.2-py3-none-any.whl (28 kB)\n",
            "Requirement already satisfied: tomli>=1.1.0 in /usr/local/lib/python3.8/dist-packages (from black->symforce) (2.0.1)\n",
            "Requirement already satisfied: MarkupSafe>=0.23 in /usr/local/lib/python3.8/dist-packages (from jinja2->symforce) (2.0.1)\n",
            "Installing collected packages: ply, platformdirs, pathspec, mypy-extensions, click, argh, sympy, symforce-sym, skymarshal, clang-format, black, symforce\n",
            "  Attempting uninstall: click\n",
            "    Found existing installation: click 7.1.2\n",
            "    Uninstalling click-7.1.2:\n",
            "      Successfully uninstalled click-7.1.2\n",
            "  Attempting uninstall: sympy\n",
            "    Found existing installation: sympy 1.7.1\n",
            "    Uninstalling sympy-1.7.1:\n",
            "      Successfully uninstalled sympy-1.7.1\n",
            "\u001b[31mERROR: pip's dependency resolver does not currently take into account all the packages that are installed. This behaviour is the source of the following dependency conflicts.\n",
            "flask 1.1.4 requires click<8.0,>=5.1, but you have click 8.1.3 which is incompatible.\u001b[0m\n",
            "Successfully installed argh-0.26.2 black-22.10.0 clang-format-15.0.4 click-8.1.3 mypy-extensions-0.4.3 pathspec-0.10.2 platformdirs-2.5.4 ply-3.11 skymarshal-0.7.0 symforce-0.7.0 symforce-sym-0.7.0 sympy-1.11.1\n"
          ]
        }
      ],
      "source": [
        "pip install symforce"
      ]
    },
    {
      "cell_type": "code",
      "source": [
        "import symforce\n",
        "\n",
        "symforce.set_symbolic_api(\"sympy\")\n",
        "symforce.set_log_level(\"warning\")\n",
        "\n",
        "import symforce.symbolic as sf\n",
        "from symforce.values import Values\n",
        "from symforce.notebook_util import display, display_code, display_code_file"
      ],
      "metadata": {
        "id": "Q4Ko-4NrlvXQ"
      },
      "execution_count": 2,
      "outputs": []
    },
    {
      "cell_type": "code",
      "source": [
        "inputs = Values(\n",
        "    x=sf.Symbol(\"x\"),\n",
        "    y=sf.Rot2.symbolic(\"c\"),\n",
        ")\n",
        "display(inputs)"
      ],
      "metadata": {
        "colab": {
          "base_uri": "https://localhost:8080/",
          "height": 86
        },
        "id": "dQ_QAiWKlxwi",
        "outputId": "b42385ab-e776-4777-800d-3f8e4af0630d"
      },
      "execution_count": 3,
      "outputs": [
        {
          "output_type": "display_data",
          "data": {
            "text/plain": [
              "Values(\n",
              "  x: x,\n",
              "  y: <Rot2 <C real=c_re, imag=c_im>>,\n",
              ")"
            ]
          },
          "metadata": {}
        }
      ]
    },
    {
      "cell_type": "code",
      "source": [
        "inputs.add(sf.Symbol(\"foo\"))\n",
        "display(inputs)"
      ],
      "metadata": {
        "colab": {
          "base_uri": "https://localhost:8080/",
          "height": 104
        },
        "id": "MAGQHh90l0tJ",
        "outputId": "6065501c-68f8-4b37-c520-4a0aa733e8a6"
      },
      "execution_count": 4,
      "outputs": [
        {
          "output_type": "display_data",
          "data": {
            "text/plain": [
              "Values(\n",
              "  x: x,\n",
              "  y: <Rot2 <C real=c_re, imag=c_im>>,\n",
              "  foo: foo,\n",
              ")"
            ]
          },
          "metadata": {}
        }
      ]
    },
    {
      "cell_type": "code",
      "source": [
        "x, y = sf.symbols(\"x y\")\n",
        "expr = x ** 2 + sf.sin(y) / x ** 2\n",
        "inputs[\"states\"] = Values(p=expr)\n",
        "display(inputs)"
      ],
      "metadata": {
        "colab": {
          "base_uri": "https://localhost:8080/",
          "height": 156
        },
        "id": "SbmGIXjrl3Xu",
        "outputId": "e99b4703-2f31-4cdd-fb50-697e4fb234ad"
      },
      "execution_count": 5,
      "outputs": [
        {
          "output_type": "display_data",
          "data": {
            "text/plain": [
              "Values(\n",
              "  x: x,\n",
              "  y: <Rot2 <C real=c_re, imag=c_im>>,\n",
              "  foo: foo,\n",
              "  states:   Values(\n",
              "    p: x**2 + sin(y)/x**2,\n",
              "  ),\n",
              ")"
            ]
          },
          "metadata": {}
        }
      ]
    },
    {
      "cell_type": "code",
      "source": [
        "display(inputs.to_storage())"
      ],
      "metadata": {
        "colab": {
          "base_uri": "https://localhost:8080/",
          "height": 58
        },
        "id": "R6iPIeUXl6DS",
        "outputId": "bdf209f6-c36f-4a5c-c7ad-d3a51a0afd78"
      },
      "execution_count": 6,
      "outputs": [
        {
          "output_type": "display_data",
          "data": {
            "text/plain": [
              "⎡                   2   sin(y)⎤\n",
              "⎢x, cᵣₑ, cᵢₘ, foo, x  + ──────⎥\n",
              "⎢                          2  ⎥\n",
              "⎣                         x   ⎦"
            ],
            "image/png": "[encoded data removed]",
            "text/latex": "$\\displaystyle \\left[ x, \\  c_{re}, \\  c_{im}, \\  foo, \\  x^{2} + \\frac{\\sin{\\left(y \\right)}}{x^{2}}\\right]$"
          },
          "metadata": {}
        }
      ]
    },
    {
      "cell_type": "code",
      "source": [
        "display(inputs.items_recursive())"
      ],
      "metadata": {
        "colab": {
          "base_uri": "https://localhost:8080/",
          "height": 86
        },
        "id": "WKjuro-zl8kJ",
        "outputId": "43917e1a-b311-4544-b279-88fa314f12af"
      },
      "execution_count": 7,
      "outputs": [
        {
          "output_type": "display_data",
          "data": {
            "text/plain": [
              "[('x', x),\n",
              " ('y', <Rot2 <C real=c_re, imag=c_im>>),\n",
              " ('foo', foo),\n",
              " ('states.p', x**2 + sin(y)/x**2)]"
            ]
          },
          "metadata": {}
        }
      ]
    },
    {
      "cell_type": "code",
      "source": [
        "display(inputs.keys_recursive())\n",
        "display(inputs.values_recursive())"
      ],
      "metadata": {
        "colab": {
          "base_uri": "https://localhost:8080/",
          "height": 52
        },
        "id": "uEOlB_0ol_4i",
        "outputId": "a8c323e7-8e6f-4936-ea62-a2a63bd90386"
      },
      "execution_count": 8,
      "outputs": [
        {
          "output_type": "display_data",
          "data": {
            "text/plain": [
              "['x', 'y', 'foo', 'states.p']"
            ]
          },
          "metadata": {}
        },
        {
          "output_type": "display_data",
          "data": {
            "text/plain": [
              "[x, <Rot2 <C real=c_re, imag=c_im>>, foo, x**2 + sin(y)/x**2]"
            ]
          },
          "metadata": {}
        }
      ]
    },
    {
      "cell_type": "code",
      "source": [
        "index = inputs.index()\n",
        "index"
      ],
      "metadata": {
        "colab": {
          "base_uri": "https://localhost:8080/",
          "height": 0
        },
        "id": "_HIAC3xqmCpi",
        "outputId": "b667cd6f-3f01-4e5f-d616-7dad462c0bab"
      },
      "execution_count": 9,
      "outputs": [
        {
          "output_type": "execute_result",
          "data": {
            "text/plain": [
              "OrderedDict([('x',\n",
              "  IndexEntry(offset=0, storage_dim=1, _module='builtins', _qualname='float', shape=None, item_index=None)),\n",
              " ('y',\n",
              "  IndexEntry(offset=1, storage_dim=2, _module='symforce.geo.rot2', _qualname='Rot2', shape=None, item_index=None)),\n",
              " ('foo',\n",
              "  IndexEntry(offset=3, storage_dim=1, _module='builtins', _qualname='float', shape=None, item_index=None)),\n",
              " ('states',\n",
              "  IndexEntry(offset=4, storage_dim=1, _module='symforce.values.values', _qualname='Values', shape=None, item_index=OrderedDict([('p', IndexEntry(offset=0, storage_dim=1, _module='builtins', _qualname='float', shape=None, item_index=None))])))])"
            ]
          },
          "metadata": {},
          "execution_count": 9
        }
      ]
    },
    {
      "cell_type": "code",
      "source": [
        "inputs2 = Values.from_storage_index(inputs.to_storage(), index)\n",
        "assert inputs == inputs2\n",
        "display(inputs)"
      ],
      "metadata": {
        "colab": {
          "base_uri": "https://localhost:8080/",
          "height": 156
        },
        "id": "45EQShPimJiv",
        "outputId": "79d0ce8e-c2ec-4529-e187-1074c7f4b011"
      },
      "execution_count": 10,
      "outputs": [
        {
          "output_type": "display_data",
          "data": {
            "text/plain": [
              "Values(\n",
              "  x: x,\n",
              "  y: <Rot2 <C real=c_re, imag=c_im>>,\n",
              "  foo: foo,\n",
              "  states:   Values(\n",
              "    p: x**2 + sin(y)/x**2,\n",
              "  ),\n",
              ")"
            ]
          },
          "metadata": {}
        }
      ]
    },
    {
      "cell_type": "code",
      "source": [
        "item_index = inputs.index()[\"states\"].item_index\n",
        "assert item_index == inputs[\"states\"].index()"
      ],
      "metadata": {
        "id": "pyQNaH-smMb7"
      },
      "execution_count": 11,
      "outputs": []
    },
    {
      "cell_type": "code",
      "source": [
        "inputs[\"states.blah\"] = 3\n",
        "display(inputs)"
      ],
      "metadata": {
        "colab": {
          "base_uri": "https://localhost:8080/",
          "height": 173
        },
        "id": "9l9HUQzZmPQi",
        "outputId": "8b8e8985-4f0c-4baf-c90d-84ce8f259fde"
      },
      "execution_count": 12,
      "outputs": [
        {
          "output_type": "display_data",
          "data": {
            "text/plain": [
              "Values(\n",
              "  x: x,\n",
              "  y: <Rot2 <C real=c_re, imag=c_im>>,\n",
              "  foo: foo,\n",
              "  states:   Values(\n",
              "    p: x**2 + sin(y)/x**2,\n",
              "    blah: 3,\n",
              "  ),\n",
              ")"
            ]
          },
          "metadata": {}
        }
      ]
    },
    {
      "cell_type": "code",
      "source": [
        "assert inputs[\"states.p\"] is inputs[\"states\"][\"p\"] is inputs.attr.states.p\n",
        "display(inputs.attr.states.p)"
      ],
      "metadata": {
        "colab": {
          "base_uri": "https://localhost:8080/",
          "height": 53
        },
        "id": "LZwUitnvmR9C",
        "outputId": "d7c5f4bd-1301-4e9a-a164-b7b65b953ac3"
      },
      "execution_count": 13,
      "outputs": [
        {
          "output_type": "display_data",
          "data": {
            "text/plain": [
              " 2   sin(y)\n",
              "x  + ──────\n",
              "        2  \n",
              "       x   "
            ],
            "image/png": "[encoded data removed]",
            "text/latex": "$\\displaystyle x^{2} + \\frac{\\sin{\\left(y \\right)}}{x^{2}}$"
          },
          "metadata": {}
        }
      ]
    },
    {
      "cell_type": "code",
      "source": [
        "with sf.scope(\"params\"):\n",
        "    s = sf.Symbol(\"cost\")\n",
        "display(s)"
      ],
      "metadata": {
        "colab": {
          "base_uri": "https://localhost:8080/",
          "height": 39
        },
        "id": "VCf-m1tbmVaR",
        "outputId": "c499a256-d343-46b8-cb6a-30a77deb9db5"
      },
      "execution_count": 14,
      "outputs": [
        {
          "output_type": "display_data",
          "data": {
            "text/plain": [
              "params.cost"
            ],
            "image/png": "[encoded data removed]",
            "text/latex": "$\\displaystyle params.cost$"
          },
          "metadata": {}
        }
      ]
    },
    {
      "cell_type": "code",
      "source": [
        "v = Values()\n",
        "v.add(sf.Symbol(\"x\"))\n",
        "with sf.scope(\"foo\"):\n",
        "    v.add(sf.Symbol(\"x\"))\n",
        "    with sf.scope(\"bar\"):\n",
        "        v.add(sf.Symbol(\"x\"))\n",
        "display(v)\n",
        "display(v.attr.foo.bar.x)"
      ],
      "metadata": {
        "colab": {
          "base_uri": "https://localhost:8080/",
          "height": 195
        },
        "id": "oV89exkLmaws",
        "outputId": "ce7b426e-4ff5-4108-a5b0-d7aaa1403905"
      },
      "execution_count": 15,
      "outputs": [
        {
          "output_type": "display_data",
          "data": {
            "text/plain": [
              "Values(\n",
              "  x: x,\n",
              "  foo:   Values(\n",
              "    x: foo.x,\n",
              "    bar:     Values(\n",
              "      x: foo.bar.x,\n",
              "    ),\n",
              "  ),\n",
              ")"
            ]
          },
          "metadata": {}
        },
        {
          "output_type": "display_data",
          "data": {
            "text/plain": [
              "foo.bar.x"
            ],
            "image/png": "[encoded data removed]",
            "text/latex": "$\\displaystyle foo.bar.x$"
          },
          "metadata": {}
        }
      ]
    },
    {
      "cell_type": "code",
      "source": [
        "v = Values()\n",
        "with v.scope(\"hello\"):\n",
        "    v[\"y\"] = x ** 2\n",
        "    v[\"z\"] = sf.Symbol(\"z\")\n",
        "v"
      ],
      "metadata": {
        "colab": {
          "base_uri": "https://localhost:8080/",
          "height": 0
        },
        "id": "Ws2BdsxWmcyt",
        "outputId": "18c22d09-5a13-4a3b-b545-6793762734d5"
      },
      "execution_count": 16,
      "outputs": [
        {
          "output_type": "execute_result",
          "data": {
            "text/plain": [
              "Values(\n",
              "  hello:   Values(\n",
              "    y: x**2,\n",
              "    z: hello.z,\n",
              "  ),\n",
              ")"
            ]
          },
          "metadata": {},
          "execution_count": 16
        }
      ]
    },
    {
      "cell_type": "code",
      "source": [
        "lie_vals = Values()\n",
        "lie_vals[\"scalar\"] = sf.Symbol(\"x\")\n",
        "lie_vals[\"rot3\"] = sf.Rot3.symbolic(\"rot\")\n",
        "\n",
        "sub_lie_vals = Values()\n",
        "sub_lie_vals[\"pose3\"] = sf.Pose3.symbolic(\"pose\")\n",
        "sub_lie_vals[\"vec\"] = sf.V3.symbolic(\"vec\")\n",
        "\n",
        "lie_vals[\"sub_vals\"] = sub_lie_vals\n",
        "\n",
        "display(lie_vals)"
      ],
      "metadata": {
        "colab": {
          "base_uri": "https://localhost:8080/",
          "height": 208
        },
        "id": "Pdbxw0z4mkYA",
        "outputId": "ac8183e6-878e-40fd-8aed-31d405ae9840"
      },
      "execution_count": 17,
      "outputs": [
        {
          "output_type": "display_data",
          "data": {
            "text/plain": [
              "Values(\n",
              "  scalar: x,\n",
              "  rot3: <Rot3 <Q xyzw=[rot_x, rot_y, rot_z, rot_w]>>,\n",
              "  sub_vals:   Values(\n",
              "    pose3: <Pose3 R=<Rot3 <Q xyzw=[pose.R_x, pose.R_y, pose.R_z, pose.R_w]>>, t=(pose.t0, pose.t1, pose.t2)>,\n",
              "    vec: Matrix([\n",
              "[vec0],\n",
              "[vec1],\n",
              "[vec2]]),\n",
              "  ),\n",
              ")"
            ]
          },
          "metadata": {}
        }
      ]
    },
    {
      "cell_type": "code",
      "source": [
        "display(lie_vals.tangent_dim())\n",
        "display(len(lie_vals.to_tangent()))"
      ],
      "metadata": {
        "colab": {
          "base_uri": "https://localhost:8080/",
          "height": 58
        },
        "id": "0OMGCKs1mlBR",
        "outputId": "49e8b256-3ca7-4c1c-8b6a-b14266f8a666"
      },
      "execution_count": 18,
      "outputs": [
        {
          "output_type": "display_data",
          "data": {
            "text/plain": [
              "13"
            ],
            "image/png": "[encoded data removed]",
            "text/latex": "$\\displaystyle 13$"
          },
          "metadata": {}
        },
        {
          "output_type": "display_data",
          "data": {
            "text/plain": [
              "13"
            ],
            "image/png": "[encoded data removed]",
            "text/latex": "$\\displaystyle 13$"
          },
          "metadata": {}
        }
      ]
    },
    {
      "cell_type": "code",
      "source": [
        "display(lie_vals.storage_D_tangent())"
      ],
      "metadata": {
        "colab": {
          "base_uri": "https://localhost:8080/",
          "height": 336
        },
        "id": "i0NY94UrmnP7",
        "outputId": "a75456d5-6d32-4887-beff-4ee87c71e70c"
      },
      "execution_count": 19,
      "outputs": [
        {
          "output_type": "display_data",
          "data": {
            "text/plain": [
              "⎡1     0        0        0         0           0           0       0  0  0  0 \n",
              "⎢                                                                             \n",
              "⎢    rot_w   -rot_z    rot_y                                                  \n",
              "⎢0   ─────   ───────   ─────       0           0           0       0  0  0  0 \n",
              "⎢      2        2        2                                                    \n",
              "⎢                                                                             \n",
              "⎢    rot_z    rot_w   -rotₓ                                                   \n",
              "⎢0   ─────    ─────   ──────       0           0           0       0  0  0  0 \n",
              "⎢      2        2       2                                                     \n",
              "⎢                                                                             \n",
              "⎢   -rot_y    rotₓ     rot_w                                                  \n",
              "⎢0  ───────   ────     ─────       0           0           0       0  0  0  0 \n",
              "⎢      2       2         2                                                    \n",
              "⎢                                                                             \n",
              "⎢   -rotₓ    -rot_y   -rot_z                                                  \n",
              "⎢0  ──────   ───────  ───────      0           0           0       0  0  0  0 \n",
              "⎢     2         2        2                                                    \n",
              "⎢                                                                             \n",
              "⎢                               pose.R_w   -pose.R_z    pose.R_y              \n",
              "⎢0     0        0        0      ────────   ──────────   ────────   0  0  0  0 \n",
              "⎢                                  2           2           2                  \n",
              "⎢                                                                             \n",
              "⎢                               pose.R_z    pose.R_w   -pose.Rₓ               \n",
              "⎢0     0        0        0      ────────    ────────   ─────────   0  0  0  0 \n",
              "⎢                                  2           2           2                  \n",
              "⎢                                                                             \n",
              "⎢                              -pose.R_y    pose.Rₓ     pose.R_w              \n",
              "⎢0     0        0        0     ──────────   ───────     ────────   0  0  0  0 \n",
              "⎢                                  2           2           2                  \n",
              "⎢                                                                             \n",
              "⎢                              -pose.Rₓ    -pose.R_y   -pose.R_z              \n",
              "⎢0     0        0        0     ─────────   ──────────  ──────────  0  0  0  0 \n",
              "⎢                                  2           2           2                  \n",
              "⎢                                                                             \n",
              "⎢0     0        0        0         0           0           0       1  0  0  0 \n",
              "⎢                                                                             \n",
              "⎢0     0        0        0         0           0           0       0  1  0  0 \n",
              "⎢                                                                             \n",
              "⎢0     0        0        0         0           0           0       0  0  1  0 \n",
              "⎢                                                                             \n",
              "⎢0     0        0        0         0           0           0       0  0  0  1 \n",
              "⎢                                                                             \n",
              "⎢0     0        0        0         0           0           0       0  0  0  0 \n",
              "⎢                                                                             \n",
              "⎣0     0        0        0         0           0           0       0  0  0  0 \n",
              "\n",
              " 0  0⎤\n",
              "     ⎥\n",
              "     ⎥\n",
              " 0  0⎥\n",
              "     ⎥\n",
              "     ⎥\n",
              "     ⎥\n",
              " 0  0⎥\n",
              "     ⎥\n",
              "     ⎥\n",
              "     ⎥\n",
              " 0  0⎥\n",
              "     ⎥\n",
              "     ⎥\n",
              "     ⎥\n",
              " 0  0⎥\n",
              "     ⎥\n",
              "     ⎥\n",
              "     ⎥\n",
              " 0  0⎥\n",
              "     ⎥\n",
              "     ⎥\n",
              "     ⎥\n",
              " 0  0⎥\n",
              "     ⎥\n",
              "     ⎥\n",
              "     ⎥\n",
              " 0  0⎥\n",
              "     ⎥\n",
              "     ⎥\n",
              "     ⎥\n",
              " 0  0⎥\n",
              "     ⎥\n",
              "     ⎥\n",
              " 0  0⎥\n",
              "     ⎥\n",
              " 0  0⎥\n",
              "     ⎥\n",
              " 0  0⎥\n",
              "     ⎥\n",
              " 0  0⎥\n",
              "     ⎥\n",
              " 1  0⎥\n",
              "     ⎥\n",
              " 0  1⎦"
            ],
            "text/latex": "$\\displaystyle \\left[\\begin{array}{ccccccccccccc}1 & 0 & 0 & 0 & 0 & 0 & 0 & 0 & 0 & 0 & 0 & 0 & 0\\\\0 & \\frac{rot_{w}}{2} & - \\frac{rot_{z}}{2} & \\frac{rot_{y}}{2} & 0 & 0 & 0 & 0 & 0 & 0 & 0 & 0 & 0\\\\0 & \\frac{rot_{z}}{2} & \\frac{rot_{w}}{2} & - \\frac{rot_{x}}{2} & 0 & 0 & 0 & 0 & 0 & 0 & 0 & 0 & 0\\\\0 & - \\frac{rot_{y}}{2} & \\frac{rot_{x}}{2} & \\frac{rot_{w}}{2} & 0 & 0 & 0 & 0 & 0 & 0 & 0 & 0 & 0\\\\0 & - \\frac{rot_{x}}{2} & - \\frac{rot_{y}}{2} & - \\frac{rot_{z}}{2} & 0 & 0 & 0 & 0 & 0 & 0 & 0 & 0 & 0\\\\0 & 0 & 0 & 0 & \\frac{pose.R_{w}}{2} & - \\frac{pose.R_{z}}{2} & \\frac{pose.R_{y}}{2} & 0 & 0 & 0 & 0 & 0 & 0\\\\0 & 0 & 0 & 0 & \\frac{pose.R_{z}}{2} & \\frac{pose.R_{w}}{2} & - \\frac{pose.R_{x}}{2} & 0 & 0 & 0 & 0 & 0 & 0\\\\0 & 0 & 0 & 0 & - \\frac{pose.R_{y}}{2} & \\frac{pose.R_{x}}{2} & \\frac{pose.R_{w}}{2} & 0 & 0 & 0 & 0 & 0 & 0\\\\0 & 0 & 0 & 0 & - \\frac{pose.R_{x}}{2} & - \\frac{pose.R_{y}}{2} & - \\frac{pose.R_{z}}{2} & 0 & 0 & 0 & 0 & 0 & 0\\\\0 & 0 & 0 & 0 & 0 & 0 & 0 & 1 & 0 & 0 & 0 & 0 & 0\\\\0 & 0 & 0 & 0 & 0 & 0 & 0 & 0 & 1 & 0 & 0 & 0 & 0\\\\0 & 0 & 0 & 0 & 0 & 0 & 0 & 0 & 0 & 1 & 0 & 0 & 0\\\\0 & 0 & 0 & 0 & 0 & 0 & 0 & 0 & 0 & 0 & 1 & 0 & 0\\\\0 & 0 & 0 & 0 & 0 & 0 & 0 & 0 & 0 & 0 & 0 & 1 & 0\\\\0 & 0 & 0 & 0 & 0 & 0 & 0 & 0 & 0 & 0 & 0 & 0 & 1\\end{array}\\right]$"
          },
          "metadata": {}
        }
      ]
    },
    {
      "cell_type": "code",
      "source": [
        "residual = sf.Matrix(6, 1)\n",
        "residual[0:3, 0] = lie_vals[\"rot3\"] * lie_vals[\"sub_vals.vec\"]\n",
        "residual[3:6, 0] = lie_vals[\"sub_vals.pose3\"] * lie_vals[\"sub_vals.vec\"]\n",
        "display(residual)"
      ],
      "metadata": {
        "colab": {
          "base_uri": "https://localhost:8080/",
          "height": 142
        },
        "id": "pjR8Im-AmpgD",
        "outputId": "5fca9f7e-cf3f-45ba-9e77-f7a54f6499e1"
      },
      "execution_count": 20,
      "outputs": [
        {
          "output_type": "display_data",
          "data": {
            "text/plain": [
              "⎡                         ⎛         2          2    ⎞                         \n",
              "⎢                    vec₀⋅⎝- 2⋅rot_y  - 2⋅rot_z  + 1⎠ + vec₁⋅(-2⋅rot_w⋅rot_z +\n",
              "⎢                                                                             \n",
              "⎢                                                               ⎛        2    \n",
              "⎢                    vec₀⋅(2⋅rot_w⋅rot_z + 2⋅rotₓ⋅rot_y) + vec₁⋅⎝- 2⋅rotₓ  - 2\n",
              "⎢                                                                             \n",
              "⎢                                                                             \n",
              "⎢                    vec₀⋅(-2⋅rot_w⋅rot_y + 2⋅rotₓ⋅rot_z) + vec₁⋅(2⋅rot_w⋅rotₓ\n",
              "⎢                                                                             \n",
              "⎢               ⎛            2             2    ⎞                             \n",
              "⎢pose.t0 + vec₀⋅⎝- 2⋅pose.R_y  - 2⋅pose.R_z  + 1⎠ + vec₁⋅(-2⋅pose.R_w⋅pose.R_z\n",
              "⎢                                                                             \n",
              "⎢                                                                 ⎛           \n",
              "⎢pose.t1 + vec₀⋅(2⋅pose.R_w⋅pose.R_z + 2⋅pose.Rₓ⋅pose.R_y) + vec₁⋅⎝- 2⋅pose.Rₓ\n",
              "⎢                                                                             \n",
              "⎢                                                                             \n",
              "⎣pose.t2 + vec₀⋅(-2⋅pose.R_w⋅pose.R_y + 2⋅pose.Rₓ⋅pose.R_z) + vec₁⋅(2⋅pose.R_w\n",
              "\n",
              "                                                                        ⎤\n",
              " 2⋅rotₓ⋅rot_y) + vec₂⋅(2⋅rot_w⋅rot_y + 2⋅rotₓ⋅rot_z)                    ⎥\n",
              "                                                                        ⎥\n",
              "      2    ⎞                                                            ⎥\n",
              "⋅rot_z  + 1⎠ + vec₂⋅(-2⋅rot_w⋅rotₓ + 2⋅rot_y⋅rot_z)                     ⎥\n",
              "                                                                        ⎥\n",
              "                         ⎛        2          2    ⎞                     ⎥\n",
              " + 2⋅rot_y⋅rot_z) + vec₂⋅⎝- 2⋅rotₓ  - 2⋅rot_y  + 1⎠                     ⎥\n",
              "                                                                        ⎥\n",
              "                                                                        ⎥\n",
              " + 2⋅pose.Rₓ⋅pose.R_y) + vec₂⋅(2⋅pose.R_w⋅pose.R_y + 2⋅pose.Rₓ⋅pose.R_z)⎥\n",
              "                                                                        ⎥\n",
              "2             2    ⎞                                                    ⎥\n",
              "  - 2⋅pose.R_z  + 1⎠ + vec₂⋅(-2⋅pose.R_w⋅pose.Rₓ + 2⋅pose.R_y⋅pose.R_z) ⎥\n",
              "                                                                        ⎥\n",
              "                                       ⎛           2             2    ⎞ ⎥\n",
              "⋅pose.Rₓ + 2⋅pose.R_y⋅pose.R_z) + vec₂⋅⎝- 2⋅pose.Rₓ  - 2⋅pose.R_y  + 1⎠ ⎦"
            ],
            "text/latex": "$\\displaystyle \\left[\\begin{matrix}vec_{0} \\left(- 2 rot_{y}^{2} - 2 rot_{z}^{2} + 1\\right) + vec_{1} \\left(- 2 rot_{w} rot_{z} + 2 rot_{x} rot_{y}\\right) + vec_{2} \\cdot \\left(2 rot_{w} rot_{y} + 2 rot_{x} rot_{z}\\right)\\\\vec_{0} \\cdot \\left(2 rot_{w} rot_{z} + 2 rot_{x} rot_{y}\\right) + vec_{1} \\left(- 2 rot_{x}^{2} - 2 rot_{z}^{2} + 1\\right) + vec_{2} \\left(- 2 rot_{w} rot_{x} + 2 rot_{y} rot_{z}\\right)\\\\vec_{0} \\left(- 2 rot_{w} rot_{y} + 2 rot_{x} rot_{z}\\right) + vec_{1} \\cdot \\left(2 rot_{w} rot_{x} + 2 rot_{y} rot_{z}\\right) + vec_{2} \\left(- 2 rot_{x}^{2} - 2 rot_{y}^{2} + 1\\right)\\\\pose.t0 + vec_{0} \\left(- 2 pose.R_{y}^{2} - 2 pose.R_{z}^{2} + 1\\right) + vec_{1} \\left(- 2 pose.R_{w} pose.R_{z} + 2 pose.R_{x} pose.R_{y}\\right) + vec_{2} \\cdot \\left(2 pose.R_{w} pose.R_{y} + 2 pose.R_{x} pose.R_{z}\\right)\\\\pose.t1 + vec_{0} \\cdot \\left(2 pose.R_{w} pose.R_{z} + 2 pose.R_{x} pose.R_{y}\\right) + vec_{1} \\left(- 2 pose.R_{x}^{2} - 2 pose.R_{z}^{2} + 1\\right) + vec_{2} \\left(- 2 pose.R_{w} pose.R_{x} + 2 pose.R_{y} pose.R_{z}\\right)\\\\pose.t2 + vec_{0} \\left(- 2 pose.R_{w} pose.R_{y} + 2 pose.R_{x} pose.R_{z}\\right) + vec_{1} \\cdot \\left(2 pose.R_{w} pose.R_{x} + 2 pose.R_{y} pose.R_{z}\\right) + vec_{2} \\left(- 2 pose.R_{x}^{2} - 2 pose.R_{y}^{2} + 1\\right)\\end{matrix}\\right]$"
          },
          "metadata": {}
        }
      ]
    },
    {
      "cell_type": "code",
      "source": [
        "residual_D_tangent = residual.jacobian(lie_vals)\n",
        "display(residual_D_tangent.shape)\n",
        "display(residual_D_tangent)"
      ],
      "metadata": {
        "colab": {
          "base_uri": "https://localhost:8080/",
          "height": 183
        },
        "id": "S0CgnHOHmrv-",
        "outputId": "42667d49-ce25-46d4-fc25-5ca400136201"
      },
      "execution_count": 21,
      "outputs": [
        {
          "output_type": "display_data",
          "data": {
            "text/plain": [
              "(6, 13)"
            ],
            "image/png": "[encoded data removed]",
            "text/latex": "$\\displaystyle \\left( 6, \\  13\\right)$"
          },
          "metadata": {}
        },
        {
          "output_type": "display_data",
          "data": {
            "text/plain": [
              "⎡                                                                             \n",
              "⎢0     vec₁⋅(2⋅rot_w⋅rot_y + 2⋅rotₓ⋅rot_z) + vec₂⋅(2⋅rot_w⋅rot_z - 2⋅rotₓ⋅rot_\n",
              "⎢                                                                             \n",
              "⎢                                               ⎛       2       2        2    \n",
              "⎢0  vec₁⋅(-2⋅rot_w⋅rotₓ + 2⋅rot_y⋅rot_z) + vec₂⋅⎝- rot_w  + rotₓ  - rot_y  + r\n",
              "⎢                                                                             \n",
              "⎢         ⎛     2       2        2        2⎞                                  \n",
              "⎢0   vec₁⋅⎝rot_w  - rotₓ  - rot_y  + rot_z ⎠ + vec₂⋅(-2⋅rot_w⋅rotₓ - 2⋅rot_y⋅r\n",
              "⎢                                                                             \n",
              "⎢                                                                             \n",
              "⎢0                                         0                                  \n",
              "⎢                                                                             \n",
              "⎢                                                                             \n",
              "⎢0                                         0                                  \n",
              "⎢                                                                             \n",
              "⎢                                                                             \n",
              "⎣0                                         0                                  \n",
              "\n",
              "                                                     ⎛     2       2        2 \n",
              "y)       vec₀⋅(-2⋅rot_w⋅rot_y - 2⋅rotₓ⋅rot_z) + vec₂⋅⎝rot_w  + rotₓ  - rot_y  \n",
              "                                                                              \n",
              "    2⎞                                                                        \n",
              "ot_z ⎠     vec₀⋅(2⋅rot_w⋅rotₓ - 2⋅rot_y⋅rot_z) + vec₂⋅(2⋅rot_w⋅rot_z + 2⋅rotₓ⋅\n",
              "                                                                              \n",
              "             ⎛       2       2        2        2⎞                             \n",
              "ot_z)   vec₀⋅⎝- rot_w  + rotₓ  + rot_y  - rot_z ⎠ + vec₂⋅(-2⋅rot_w⋅rot_y + 2⋅r\n",
              "                                                                              \n",
              "                                                                              \n",
              "                                               0                              \n",
              "                                                                              \n",
              "                                                                              \n",
              "                                               0                              \n",
              "                                                                              \n",
              "                                                                              \n",
              "                                               0                              \n",
              "\n",
              "       2⎞                                               ⎛       2       2     \n",
              "- rot_z ⎠   vec₀⋅(-2⋅rot_w⋅rot_z + 2⋅rotₓ⋅rot_y) + vec₁⋅⎝- rot_w  - rotₓ  + ro\n",
              "                                                                              \n",
              "                  ⎛     2       2        2        2⎞                          \n",
              "rot_y)       vec₀⋅⎝rot_w  - rotₓ  + rot_y  - rot_z ⎠ + vec₁⋅(-2⋅rot_w⋅rot_z - \n",
              "                                                                              \n",
              "                                                                              \n",
              "otₓ⋅rot_z)     vec₀⋅(2⋅rot_w⋅rotₓ + 2⋅rot_y⋅rot_z) + vec₁⋅(2⋅rot_w⋅rot_y - 2⋅r\n",
              "                                                                              \n",
              "                                                                              \n",
              "                                                   0                          \n",
              "                                                                              \n",
              "                                                                              \n",
              "                                                   0                          \n",
              "                                                                              \n",
              "                                                                              \n",
              "                                                   0                          \n",
              "\n",
              "   2        2⎞                                                                \n",
              "t_y  + rot_z ⎠                                                     0          \n",
              "                                                                              \n",
              "                                                                              \n",
              "2⋅rotₓ⋅rot_y)                                                      0          \n",
              "                                                                              \n",
              "                                                                              \n",
              "otₓ⋅rot_z)                                                         0          \n",
              "                                                                              \n",
              "                                                                              \n",
              "                   vec₁⋅(2⋅pose.R_w⋅pose.R_y + 2⋅pose.Rₓ⋅pose.R_z) + vec₂⋅(2⋅p\n",
              "                                                                              \n",
              "                                                                        ⎛     \n",
              "                vec₁⋅(-2⋅pose.R_w⋅pose.Rₓ + 2⋅pose.R_y⋅pose.R_z) + vec₂⋅⎝- pos\n",
              "                                                                              \n",
              "                      ⎛        2          2           2           2⎞          \n",
              "                 vec₁⋅⎝pose.R_w  - pose.Rₓ  - pose.R_y  + pose.R_z ⎠ + vec₂⋅(-\n",
              "\n",
              "                                                                              \n",
              "                                                                              \n",
              "                                                                              \n",
              "                                                                              \n",
              "                                                                              \n",
              "                                                                              \n",
              "                                                                              \n",
              "                                                                              \n",
              "                                                                              \n",
              "                                                                              \n",
              "ose.R_w⋅pose.R_z - 2⋅pose.Rₓ⋅pose.R_y)       vec₀⋅(-2⋅pose.R_w⋅pose.R_y - 2⋅po\n",
              "                                                                              \n",
              "     2          2           2           2⎞                                    \n",
              "e.R_w  + pose.Rₓ  - pose.R_y  + pose.R_z ⎠     vec₀⋅(2⋅pose.R_w⋅pose.Rₓ - 2⋅po\n",
              "                                                                              \n",
              "                                                 ⎛          2          2      \n",
              "2⋅pose.R_w⋅pose.Rₓ - 2⋅pose.R_y⋅pose.R_z)   vec₀⋅⎝- pose.R_w  + pose.Rₓ  + pos\n",
              "\n",
              "                                                                              \n",
              "                 0                                                            \n",
              "                                                                              \n",
              "                                                                              \n",
              "                 0                                                            \n",
              "                                                                              \n",
              "                                                                              \n",
              "                 0                                                            \n",
              "                                                                              \n",
              "                       ⎛        2          2           2           2⎞         \n",
              "se.Rₓ⋅pose.R_z) + vec₂⋅⎝pose.R_w  + pose.Rₓ  - pose.R_y  - pose.R_z ⎠   vec₀⋅(\n",
              "                                                                              \n",
              "                                                                              \n",
              "se.R_y⋅pose.R_z) + vec₂⋅(2⋅pose.R_w⋅pose.R_z + 2⋅pose.Rₓ⋅pose.R_y)       vec₀⋅\n",
              "                                                                              \n",
              "     2           2⎞                                                           \n",
              "e.R_y  - pose.R_z ⎠ + vec₂⋅(-2⋅pose.R_w⋅pose.R_y + 2⋅pose.Rₓ⋅pose.R_z)     vec\n",
              "\n",
              "                                                                              \n",
              "                                             0                                \n",
              "                                                                              \n",
              "                                                                              \n",
              "                                             0                                \n",
              "                                                                              \n",
              "                                                                              \n",
              "                                             0                                \n",
              "                                                                              \n",
              "                                                  ⎛          2          2     \n",
              "-2⋅pose.R_w⋅pose.R_z + 2⋅pose.Rₓ⋅pose.R_y) + vec₁⋅⎝- pose.R_w  - pose.Rₓ  + po\n",
              "                                                                              \n",
              "⎛        2          2           2           2⎞                                \n",
              "⎝pose.R_w  - pose.Rₓ  + pose.R_y  - pose.R_z ⎠ + vec₁⋅(-2⋅pose.R_w⋅pose.R_z - \n",
              "                                                                              \n",
              "                                                                              \n",
              "₀⋅(2⋅pose.R_w⋅pose.Rₓ + 2⋅pose.R_y⋅pose.R_z) + vec₁⋅(2⋅pose.R_w⋅pose.R_y - 2⋅p\n",
              "\n",
              "                                                2          2                  \n",
              "                      0  0  0          - 2⋅rot_y  - 2⋅rot_z  + 1              \n",
              "                                                                              \n",
              "                                                                              \n",
              "                      0  0  0        2⋅rot_w⋅rot_z + 2⋅rotₓ⋅rot_y             \n",
              "                                                                              \n",
              "                                                                              \n",
              "                      0  0  0        -2⋅rot_w⋅rot_y + 2⋅rotₓ⋅rot_z            \n",
              "                                                                              \n",
              "      2           2⎞                            2             2               \n",
              "se.R_y  + pose.R_z ⎠  1  0  0       - 2⋅pose.R_y  - 2⋅pose.R_z  + 1       -2⋅p\n",
              "                                                                              \n",
              "                                                                              \n",
              "2⋅pose.Rₓ⋅pose.R_y)   0  1  0  2⋅pose.R_w⋅pose.R_z + 2⋅pose.Rₓ⋅pose.R_y       \n",
              "                                                                              \n",
              "                                                                              \n",
              "ose.Rₓ⋅pose.R_z)      0  0  1  -2⋅pose.R_w⋅pose.R_y + 2⋅pose.Rₓ⋅pose.R_z  2⋅po\n",
              "\n",
              "                                                                              \n",
              "  -2⋅rot_w⋅rot_z + 2⋅rotₓ⋅rot_y              2⋅rot_w⋅rot_y + 2⋅rotₓ⋅rot_z     \n",
              "                                                                              \n",
              "            2          2                                                      \n",
              "    - 2⋅rotₓ  - 2⋅rot_z  + 1                 -2⋅rot_w⋅rotₓ + 2⋅rot_y⋅rot_z    \n",
              "                                                                              \n",
              "                                                       2          2           \n",
              "  2⋅rot_w⋅rotₓ + 2⋅rot_y⋅rot_z                 - 2⋅rotₓ  - 2⋅rot_y  + 1       \n",
              "                                                                              \n",
              "                                                                              \n",
              "ose.R_w⋅pose.R_z + 2⋅pose.Rₓ⋅pose.R_y  2⋅pose.R_w⋅pose.R_y + 2⋅pose.Rₓ⋅pose.R_\n",
              "                                                                              \n",
              "            2             2                                                   \n",
              " - 2⋅pose.Rₓ  - 2⋅pose.R_z  + 1        -2⋅pose.R_w⋅pose.Rₓ + 2⋅pose.R_y⋅pose.R\n",
              "                                                                              \n",
              "                                                       2             2        \n",
              "se.R_w⋅pose.Rₓ + 2⋅pose.R_y⋅pose.R_z        - 2⋅pose.Rₓ  - 2⋅pose.R_y  + 1    \n",
              "\n",
              "  ⎤\n",
              "  ⎥\n",
              "  ⎥\n",
              "  ⎥\n",
              "  ⎥\n",
              "  ⎥\n",
              "  ⎥\n",
              "  ⎥\n",
              "  ⎥\n",
              "  ⎥\n",
              "z ⎥\n",
              "  ⎥\n",
              "  ⎥\n",
              "_z⎥\n",
              "  ⎥\n",
              "  ⎥\n",
              "  ⎦"
            ],
            "text/latex": "$\\displaystyle \\left[\\begin{array}{ccccccccccccc}0 & vec_{1} \\cdot \\left(2 rot_{w} rot_{y} + 2 rot_{x} rot_{z}\\right) + vec_{2} \\cdot \\left(2 rot_{w} rot_{z} - 2 rot_{x} rot_{y}\\right) & vec_{0} \\left(- 2 rot_{w} rot_{y} - 2 rot_{x} rot_{z}\\right) + vec_{2} \\left(rot_{w}^{2} + rot_{x}^{2} - rot_{y}^{2} - rot_{z}^{2}\\right) & vec_{0} \\left(- 2 rot_{w} rot_{z} + 2 rot_{x} rot_{y}\\right) + vec_{1} \\left(- rot_{w}^{2} - rot_{x}^{2} + rot_{y}^{2} + rot_{z}^{2}\\right) & 0 & 0 & 0 & 0 & 0 & 0 & - 2 rot_{y}^{2} - 2 rot_{z}^{2} + 1 & - 2 rot_{w} rot_{z} + 2 rot_{x} rot_{y} & 2 rot_{w} rot_{y} + 2 rot_{x} rot_{z}\\\\0 & vec_{1} \\left(- 2 rot_{w} rot_{x} + 2 rot_{y} rot_{z}\\right) + vec_{2} \\left(- rot_{w}^{2} + rot_{x}^{2} - rot_{y}^{2} + rot_{z}^{2}\\right) & vec_{0} \\cdot \\left(2 rot_{w} rot_{x} - 2 rot_{y} rot_{z}\\right) + vec_{2} \\cdot \\left(2 rot_{w} rot_{z} + 2 rot_{x} rot_{y}\\right) & vec_{0} \\left(rot_{w}^{2} - rot_{x}^{2} + rot_{y}^{2} - rot_{z}^{2}\\right) + vec_{1} \\left(- 2 rot_{w} rot_{z} - 2 rot_{x} rot_{y}\\right) & 0 & 0 & 0 & 0 & 0 & 0 & 2 rot_{w} rot_{z} + 2 rot_{x} rot_{y} & - 2 rot_{x}^{2} - 2 rot_{z}^{2} + 1 & - 2 rot_{w} rot_{x} + 2 rot_{y} rot_{z}\\\\0 & vec_{1} \\left(rot_{w}^{2} - rot_{x}^{2} - rot_{y}^{2} + rot_{z}^{2}\\right) + vec_{2} \\left(- 2 rot_{w} rot_{x} - 2 rot_{y} rot_{z}\\right) & vec_{0} \\left(- rot_{w}^{2} + rot_{x}^{2} + rot_{y}^{2} - rot_{z}^{2}\\right) + vec_{2} \\left(- 2 rot_{w} rot_{y} + 2 rot_{x} rot_{z}\\right) & vec_{0} \\cdot \\left(2 rot_{w} rot_{x} + 2 rot_{y} rot_{z}\\right) + vec_{1} \\cdot \\left(2 rot_{w} rot_{y} - 2 rot_{x} rot_{z}\\right) & 0 & 0 & 0 & 0 & 0 & 0 & - 2 rot_{w} rot_{y} + 2 rot_{x} rot_{z} & 2 rot_{w} rot_{x} + 2 rot_{y} rot_{z} & - 2 rot_{x}^{2} - 2 rot_{y}^{2} + 1\\\\0 & 0 & 0 & 0 & vec_{1} \\cdot \\left(2 pose.R_{w} pose.R_{y} + 2 pose.R_{x} pose.R_{z}\\right) + vec_{2} \\cdot \\left(2 pose.R_{w} pose.R_{z} - 2 pose.R_{x} pose.R_{y}\\right) & vec_{0} \\left(- 2 pose.R_{w} pose.R_{y} - 2 pose.R_{x} pose.R_{z}\\right) + vec_{2} \\left(pose.R_{w}^{2} + pose.R_{x}^{2} - pose.R_{y}^{2} - pose.R_{z}^{2}\\right) & vec_{0} \\left(- 2 pose.R_{w} pose.R_{z} + 2 pose.R_{x} pose.R_{y}\\right) + vec_{1} \\left(- pose.R_{w}^{2} - pose.R_{x}^{2} + pose.R_{y}^{2} + pose.R_{z}^{2}\\right) & 1 & 0 & 0 & - 2 pose.R_{y}^{2} - 2 pose.R_{z}^{2} + 1 & - 2 pose.R_{w} pose.R_{z} + 2 pose.R_{x} pose.R_{y} & 2 pose.R_{w} pose.R_{y} + 2 pose.R_{x} pose.R_{z}\\\\0 & 0 & 0 & 0 & vec_{1} \\left(- 2 pose.R_{w} pose.R_{x} + 2 pose.R_{y} pose.R_{z}\\right) + vec_{2} \\left(- pose.R_{w}^{2} + pose.R_{x}^{2} - pose.R_{y}^{2} + pose.R_{z}^{2}\\right) & vec_{0} \\cdot \\left(2 pose.R_{w} pose.R_{x} - 2 pose.R_{y} pose.R_{z}\\right) + vec_{2} \\cdot \\left(2 pose.R_{w} pose.R_{z} + 2 pose.R_{x} pose.R_{y}\\right) & vec_{0} \\left(pose.R_{w}^{2} - pose.R_{x}^{2} + pose.R_{y}^{2} - pose.R_{z}^{2}\\right) + vec_{1} \\left(- 2 pose.R_{w} pose.R_{z} - 2 pose.R_{x} pose.R_{y}\\right) & 0 & 1 & 0 & 2 pose.R_{w} pose.R_{z} + 2 pose.R_{x} pose.R_{y} & - 2 pose.R_{x}^{2} - 2 pose.R_{z}^{2} + 1 & - 2 pose.R_{w} pose.R_{x} + 2 pose.R_{y} pose.R_{z}\\\\0 & 0 & 0 & 0 & vec_{1} \\left(pose.R_{w}^{2} - pose.R_{x}^{2} - pose.R_{y}^{2} + pose.R_{z}^{2}\\right) + vec_{2} \\left(- 2 pose.R_{w} pose.R_{x} - 2 pose.R_{y} pose.R_{z}\\right) & vec_{0} \\left(- pose.R_{w}^{2} + pose.R_{x}^{2} + pose.R_{y}^{2} - pose.R_{z}^{2}\\right) + vec_{2} \\left(- 2 pose.R_{w} pose.R_{y} + 2 pose.R_{x} pose.R_{z}\\right) & vec_{0} \\cdot \\left(2 pose.R_{w} pose.R_{x} + 2 pose.R_{y} pose.R_{z}\\right) + vec_{1} \\cdot \\left(2 pose.R_{w} pose.R_{y} - 2 pose.R_{x} pose.R_{z}\\right) & 0 & 0 & 1 & - 2 pose.R_{w} pose.R_{y} + 2 pose.R_{x} pose.R_{z} & 2 pose.R_{w} pose.R_{x} + 2 pose.R_{y} pose.R_{z} & - 2 pose.R_{x}^{2} - 2 pose.R_{y}^{2} + 1\\end{array}\\right]$"
          },
          "metadata": {}
        }
      ]
    }
  ]
}